{
 "cells": [
  {
   "cell_type": "code",
   "execution_count": 3,
   "metadata": {
    "collapsed": false
   },
   "outputs": [],
   "source": [
    "#To Do List\n",
    "#sign up for api\n",
    "#define api and key\n",
    "#create a while True statement for the loop to generate\n",
    "#define user_input\n",
    "#define what we want our user_input to return from the dataFrame (calories, sugars, fat, etc.)\n",
    "#using dataFrame from nutritionix, take the user_input and return the id name for the input specific to the dataFrame\n",
    "#food is needed before what we want the program to return because food is defined so that it returns the food id, which allows us to return specific things for each food such as 'calories'\n",
    "#create code to access the data within the dict\n",
    "#create if statement so that user can quit the loop when finished\n",
    "#create code to take user to webbrowser when they quit the loop\n",
    "#set time for when to have the website open (2 seconds)\n",
    "#paste url for website\n",
    "#make sure to break the loop"
   ]
  },
  {
   "cell_type": "code",
   "execution_count": 39,
   "metadata": {
    "collapsed": false
   },
   "outputs": [
    {
     "name": "stdout",
     "output_type": "stream",
     "text": [
      "Enter a food or type 'quit': blueberry\n",
      "* Dietary Fiber:  1.63\n",
      "* Calories:  38.76\n",
      "* Calories From Fat:  1.98\n",
      "* Cholesterol:  0\n",
      "* Sugars:  6.77\n",
      "* Total Fat:  0.22\n",
      "* Total Carbohydrates:  9.85\n",
      "Enter a food or type 'quit': RX bar\n",
      "* Dietary Fiber:  4\n",
      "* Calories:  200\n",
      "* Calories From Fat:  80\n",
      "* Cholesterol:  0\n",
      "* Sugars:  12\n",
      "* Total Fat:  9\n",
      "* Total Carbohydrates:  22\n",
      "Enter a food or type 'quit': sour patch kids\n",
      "* Dietary Fiber:  0.05\n",
      "* Calories:  198\n",
      "* Calories From Fat:  0\n",
      "* Cholesterol:  0\n",
      "* Sugars:  29.49\n",
      "* Total Fat:  0\n",
      "* Total Carbohydrates:  49.45\n",
      "Enter a food or type 'quit': quit\n",
      "Stick around to check out the food blog!💃🏻\n"
     ]
    }
   ],
   "source": [
    "from nutritionix import Nutritionix\n",
    "nix = Nutritionix(app_id=\"557650c9\", api_key=\"b3c987d0bdb894c210751635b54c082d\")\n",
    "\n",
    "while True:\n",
    "    user_input = input(\"Enter a food or type 'quit': \")\n",
    "    r_var = nix.search(user_input, results=\"0:1\").json()\n",
    "    food = nix.item(id=r_var['hits'][0]['_id']).json()\n",
    "    if user_input == 'quit':\n",
    "        print('Stick around to check out the food blog!💃🏻')\n",
    "        import webbrowser\n",
    "        import time\n",
    "\n",
    "        time.sleep(2)\n",
    "        webbrowser.open('http://www.sproutedkitchen.com/recipes/')\n",
    "        break\n",
    "    print(\"* Dietary Fiber: \", food['nf_dietary_fiber'])\n",
    "    print(\"* Calories: \", food['nf_calories'])\n",
    "    print(\"* Calories From Fat: \", food['nf_calories_from_fat'])\n",
    "    print(\"* Cholesterol: \", food['nf_cholesterol'])\n",
    "    print(\"* Sugars: \", food['nf_sugars'])\n",
    "    print(\"* Total Fat: \", food['nf_total_fat'])\n",
    "    print(\"* Total Carbohydrates: \", food['nf_total_carbohydrate'])   \n",
    "        "
   ]
  },
  {
   "cell_type": "code",
   "execution_count": 1,
   "metadata": {
    "collapsed": false
   },
   "outputs": [],
   "source": [
    "#What We Use\n",
    "    #strings (print statements)\n",
    "    #functions (print statements)\n",
    "    #list function\n",
    "    #while True loop function\n",
    "    #api\n",
    "    #retrieving info from Dict\n",
    "    #if statement\n",
    "    #opening webbrowser  "
   ]
  },
  {
   "cell_type": "code",
   "execution_count": 11,
   "metadata": {
    "collapsed": false
   },
   "outputs": [],
   "source": [
    "#https://github.com/leetrout/python-nutritionix "
   ]
  },
  {
   "cell_type": "code",
   "execution_count": null,
   "metadata": {
    "collapsed": false
   },
   "outputs": [],
   "source": []
  },
  {
   "cell_type": "code",
   "execution_count": null,
   "metadata": {
    "collapsed": false
   },
   "outputs": [],
   "source": []
  },
  {
   "cell_type": "code",
   "execution_count": null,
   "metadata": {
    "collapsed": true
   },
   "outputs": [],
   "source": []
  }
 ],
 "metadata": {
  "kernelspec": {
   "display_name": "Python 3",
   "language": "python",
   "name": "python3"
  },
  "language_info": {
   "codemirror_mode": {
    "name": "ipython",
    "version": 3
   },
   "file_extension": ".py",
   "mimetype": "text/x-python",
   "name": "python",
   "nbconvert_exporter": "python",
   "pygments_lexer": "ipython3",
   "version": "3.5.2"
  }
 },
 "nbformat": 4,
 "nbformat_minor": 2
}
